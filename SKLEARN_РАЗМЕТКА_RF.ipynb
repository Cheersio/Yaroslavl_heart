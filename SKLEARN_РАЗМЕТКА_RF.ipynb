{
 "cells": [
  {
   "cell_type": "code",
   "execution_count": 1,
   "metadata": {},
   "outputs": [
    {
     "name": "stderr",
     "output_type": "stream",
     "text": [
      "C:\\Users\\Zver\\Anaconda3\\lib\\site-packages\\pandas\\compat\\_optional.py:138: UserWarning: Pandas requires version '2.7.0' or newer of 'numexpr' (version '2.6.8' currently installed).\n",
      "  warnings.warn(msg, UserWarning)\n"
     ]
    },
    {
     "name": "stdout",
     "output_type": "stream",
     "text": [
      "   x1  x8  x9  x11  x13  x14  x16  x20  x21  x22  ...  z1  z2  z3  z4  z5  \\\n",
      "0   0   3   0    0    0    0    0    1    0    1  ...   0   0   0   0   0   \n",
      "1   0   4   0    0    0    0    0    1    0    0  ...   0   0   0   0   0   \n",
      "2   0   4   0    1    1    0    0    0    0    0  ...   1   0   0   0   0   \n",
      "3   0   4   0    1    1    0    0    1    0    0  ...   1   1   0   0   0   \n",
      "4   0   4   0    1    0    0    0    1    0    0  ...   1   0   0   0   0   \n",
      "\n",
      "   zz0  zz1  zz2  zz3  zz4  \n",
      "0    1    0    0    0    0  \n",
      "1    1    0    0    0    0  \n",
      "2    0    1    0    0    0  \n",
      "3    0    0    1    0    0  \n",
      "4    0    1    0    0    0  \n",
      "\n",
      "[5 rows x 30 columns]\n"
     ]
    }
   ],
   "source": [
    "import pandas as pd\n",
    "import pulp\n",
    "import numpy as np\n",
    "import pickle\n",
    "import os \n",
    "\n",
    "from sklearn.ensemble import RandomForestClassifier\n",
    "from sklearn.discriminant_analysis import LinearDiscriminantAnalysis\n",
    "from sklearn.linear_model import LogisticRegression\n",
    "from sklearn.svm import SVC\n",
    "from sklearn.neighbors import KNeighborsClassifier\n",
    "\n",
    "from sklearn.model_selection import train_test_split\n",
    "from sklearn.metrics import accuracy_score\n",
    "from sklearn.metrics import roc_auc_score\n",
    "\n",
    "#выбор рабочей папки и данных\n",
    "папка=\"\"\"C:\\КОНКУРС\"\"\"\n",
    "os.chdir(папка)\n",
    "таблица=\"\"\"train20.xlsx\"\"\"\n",
    "лист='data20'\n",
    "\n",
    "#---- ЗАГРУЗКА ДАННЫХ ----\n",
    "df=pd.read_excel(таблица,sheet_name=лист)\n",
    "print(df.head())\n",
    "\n",
    "X_col=df.columns[0:20]\n",
    "Y_col=df.columns[20:]\n",
    "\n",
    "X=df[X_col]\n",
    "X=X.fillna(0)\n",
    "\n",
    "Y=df[Y_col]\n",
    "Y=Y.fillna(0)\n",
    "\n",
    "\n",
    "test_data=pd.read_excel(таблица,sheet_name='control20')\n",
    "test_data=test_data.set_index('ID')\n"
   ]
  },
  {
   "cell_type": "code",
   "execution_count": 2,
   "metadata": {},
   "outputs": [
    {
     "name": "stdout",
     "output_type": "stream",
     "text": [
      "РАСЧЕТЫ ЗАКОНЧЕНЫ, РЕЗУЛЬТАТЫ СОХРАНЕНЫ\n"
     ]
    }
   ],
   "source": [
    "#обучение и сохранение модели\n",
    "#classifiers = [LinearDiscriminantAnalysis(), # линейное разделение\n",
    "#              SVC(kernel='linear'), # метод опорных векторов с линейным ядром\n",
    "#              LogisticRegression(), # логистическая регрессия\n",
    "#              KNeighborsClassifier(n_neighbors=6), # метод ближайших соседей\n",
    "#              DecisionTreeClassifier(),#дерево решений\n",
    "#              RandomForestClassifier(n_estimators=10),# случайный лес\n",
    "#              GaussianNB()#наивный байесовский\n",
    "\n",
    "clf=RandomForestClassifier(n_jobs=-1,max_depth=5,n_estimators=200,random_state=42)\n",
    "\n",
    "\n",
    "res=[]\n",
    "\n",
    "plavila={}\n",
    "\n",
    "for i in Y.columns:\n",
    "    \n",
    "    #обучаемся на тест_трейне, для оценки точности методов\n",
    "    X_train, X_test, y_train, y_test = train_test_split(X, Y[i], test_size=0.20, random_state=42)\n",
    "     \n",
    "    clf.fit(X=X_train,y=y_train)\n",
    "   \n",
    "\n",
    "    y_train_predict_proba=clf.predict_proba(X_train)\n",
    "    y_train_predict=clf.predict(X_train)\n",
    "    y_test_predict_proba=clf.predict_proba(X_test)\n",
    "    y_test_predict=clf.predict(X_test)    \n",
    "    \n",
    "    res+=[[i,\n",
    "          accuracy_score(y_train,y_train_predict),\n",
    "          roc_auc_score(y_train,y_train_predict_proba[:,1]),\n",
    "          accuracy_score(y_test,y_test_predict),\n",
    "          roc_auc_score(y_test,y_test_predict_proba[:,1]),\n",
    "         ]]\n",
    "    \n",
    "    #обучаемся на всем множестве данных\n",
    "    clf.fit(X=X,y=Y[i])\n",
    "    test_data[i]=clf.predict(test_data[X.columns])\n",
    "    \n",
    "res=pd.DataFrame(res,columns=['diagnoz','acc_train','roc_auc_train','acc_test','roc_auc_test'])\n",
    "test_data.to_excel('РАЗМЕТКА_RF_0407.xlsx')\n",
    "print('РАСЧЕТЫ ЗАКОНЧЕНЫ, РЕЗУЛЬТАТЫ СОХРАНЕНЫ')"
   ]
  },
  {
   "cell_type": "code",
   "execution_count": 45,
   "metadata": {},
   "outputs": [],
   "source": []
  },
  {
   "cell_type": "code",
   "execution_count": null,
   "metadata": {},
   "outputs": [],
   "source": []
  }
 ],
 "metadata": {
  "kernelspec": {
   "display_name": "Python 3",
   "language": "python",
   "name": "python3"
  },
  "language_info": {
   "codemirror_mode": {
    "name": "ipython",
    "version": 3
   },
   "file_extension": ".py",
   "mimetype": "text/x-python",
   "name": "python",
   "nbconvert_exporter": "python",
   "pygments_lexer": "ipython3",
   "version": "3.7.1"
  }
 },
 "nbformat": 4,
 "nbformat_minor": 4
}
